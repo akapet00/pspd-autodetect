{
 "cells": [
  {
   "cell_type": "code",
   "execution_count": 1,
   "id": "c03462b8-e849-4554-80c9-f85fcbd3b755",
   "metadata": {
    "tags": []
   },
   "outputs": [],
   "source": [
    "import os\n",
    "\n",
    "import numpy as np\n",
    "import pickle\n",
    "import pyvista as pv\n",
    "import seaborn as sns\n",
    "pv.set_plot_theme('document')\n",
    "sns.set(style='white', font_scale=1.25,\n",
    "        rc={'text.usetex' : True,\n",
    "            'font.family': 'serif'})"
   ]
  },
  {
   "cell_type": "code",
   "execution_count": 2,
   "id": "c5a7a7bf-d282-4438-ba33-c7222e4f022b",
   "metadata": {
    "tags": []
   },
   "outputs": [],
   "source": [
    "# data\n",
    "with open('experiment_single_source.pkl', 'rb') as handle:\n",
    "    datadict = pickle.load(handle)\n",
    "points = datadict['points']\n",
    "normals = datadict['normals']\n",
    "vert = datadict['vertices']\n",
    "tri = datadict['faces']\n",
    "colors = datadict['colors']\n",
    "pd = datadict['power density']\n",
    "ind = datadict['search space indices']\n",
    "p = datadict['query point']\n",
    "nbh = datadict['neighborhood']\n",
    "area = datadict['surface area']\n",
    "pspd = datadict['pspd']\n",
    "cbar_ticks = [np.round(pd.min()),\n",
    "              np.round(pd.ptp()/2),\n",
    "              np.round(pd.max())]"
   ]
  },
  {
   "cell_type": "code",
   "execution_count": 3,
   "id": "2bf4995a-c38f-42b5-a206-69396039c88f",
   "metadata": {
    "tags": []
   },
   "outputs": [],
   "source": [
    "# triangle mesh\n",
    "surf = pv.PolyData()\n",
    "surf.points = vert\n",
    "surf.faces = np.append(np.full((tri.shape[0], 1), 3, dtype=np.int32),\n",
    "                       tri,\n",
    "                       axis=1)"
   ]
  },
  {
   "cell_type": "code",
   "execution_count": 5,
   "id": "03f1240d-6cb4-4527-aed3-640b88fb4ae1",
   "metadata": {
    "tags": []
   },
   "outputs": [],
   "source": [
    "# light\n",
    "light = pv.Light(light_type='headlight')"
   ]
  },
  {
   "cell_type": "code",
   "execution_count": 8,
   "id": "c876fda5-f328-4759-829a-ffb965feb7c2",
   "metadata": {
    "tags": []
   },
   "outputs": [
    {
     "data": {
      "application/vnd.jupyter.widget-view+json": {
       "model_id": "3cc8c158ba8a46bfbf885f1bc43009cd",
       "version_major": 2,
       "version_minor": 0
      },
      "text/plain": [
       "Widget(value=\"<iframe src='http://localhost:34599/index.html?ui=P_0x7fc75ecea070_3&reconnect=auto' style='widt…"
      ]
     },
     "metadata": {},
     "output_type": "display_data"
    }
   ],
   "source": [
    "# plotter settings\n",
    "plotter = pv.Plotter()\n",
    "plotter.add_mesh(surf,\n",
    "                 scalars=colors,\n",
    "                 cmap='rocket')\n",
    "plotter.show()"
   ]
  },
  {
   "cell_type": "code",
   "execution_count": null,
   "id": "ccea5fff-c73c-449b-af04-005b15ea89ff",
   "metadata": {},
   "outputs": [],
   "source": []
  },
  {
   "cell_type": "code",
   "execution_count": null,
   "id": "3c01c5eb-6722-4df5-ab73-4e5c35a90a70",
   "metadata": {},
   "outputs": [],
   "source": []
  },
  {
   "cell_type": "code",
   "execution_count": null,
   "id": "e4af337e-e005-4f32-ba19-e35f07ffbfec",
   "metadata": {},
   "outputs": [],
   "source": []
  },
  {
   "cell_type": "code",
   "execution_count": null,
   "id": "4fc2b365-5b3c-4475-b2c4-41adc8494bd2",
   "metadata": {},
   "outputs": [],
   "source": []
  }
 ],
 "metadata": {
  "kernelspec": {
   "display_name": "Python 3 (ipykernel)",
   "language": "python",
   "name": "python3"
  },
  "language_info": {
   "codemirror_mode": {
    "name": "ipython",
    "version": 3
   },
   "file_extension": ".py",
   "mimetype": "text/x-python",
   "name": "python",
   "nbconvert_exporter": "python",
   "pygments_lexer": "ipython3",
   "version": "3.9.16"
  }
 },
 "nbformat": 4,
 "nbformat_minor": 5
}
