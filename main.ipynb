{
 "cells": [
  {
   "cell_type": "code",
   "execution_count": null,
   "id": "2faa2595-7bc1-447f-b339-f54bea39f1d7",
   "metadata": {},
   "outputs": [],
   "source": [
    "import os\n",
    "\n",
    "import matplotlib.pyplot as plt\n",
    "from matplotlib.colors import LightSource\n",
    "import numpy as np\n",
    "try:\n",
    "    import open3d as o3d\n",
    "except ImportError:\n",
    "    print('open3d is requiInfo = <Verbosityred')\n",
    "else:\n",
    "    o3d.utility.set_verbosity_level(o3d.utility.VerbosityLevel(0))\n",
    "from scipy import spatial\n",
    "import seaborn as sns\n",
    "from tqdm.notebook import tqdm\n",
    "\n",
    "from pspd import remove_hidden_points\n",
    "from pspd import edblquad"
   ]
  },
  {
   "cell_type": "code",
   "execution_count": null,
   "id": "8b6fad41-4416-4bb4-9226-4ff9a64a626f",
   "metadata": {
    "tags": []
   },
   "outputs": [],
   "source": [
    "%matplotlib widget"
   ]
  },
  {
   "cell_type": "code",
   "execution_count": null,
   "id": "d3ff4c91-15ef-49af-8492-7b86704b87b4",
   "metadata": {
    "tags": []
   },
   "outputs": [],
   "source": [
    "# constants\n",
    "elev = 25\n",
    "azim = 50\n",
    "colors = sns.color_palette('colorblind', 3)\n",
    "colors"
   ]
  },
  {
   "cell_type": "code",
   "execution_count": null,
   "id": "3fd5d8cf-703a-465a-824e-ffd7eeadaeb0",
   "metadata": {},
   "outputs": [],
   "source": [
    "# data\n",
    "fname = os.path.join('data', 'model', 'head')\n",
    "points = np.loadtxt(fname + '.xyz')\n",
    "normals = np.loadtxt(fname + '.normals')\n",
    "mesh = o3d.io.read_triangle_mesh(fname + '.iso.off')\n",
    "vert = np.asarray(mesh.vertices)\n",
    "tri = np.asarray(mesh.triangles)"
   ]
  },
  {
   "cell_type": "code",
   "execution_count": null,
   "id": "301f8bf8-d158-4e72-a4d7-f992da87dc34",
   "metadata": {},
   "outputs": [],
   "source": [
    "# point cloud\n",
    "N = points.shape[0]\n",
    "num = 0.1 * N\n",
    "mask = np.arange(0, N, int(N/num))\n",
    "\n",
    "plt.close()\n",
    "fig = plt.figure(figsize=(5, 5))\n",
    "ax = plt.axes(projection='3d')\n",
    "ax.scatter(*points[mask].T,\n",
    "           fc='w', ec=colors[0], s=7.5, lw=0.5)\n",
    "ax.set_box_aspect(np.ptp(points, axis=0))\n",
    "ax.set_axis_off()\n",
    "ax.view_init(elev, azim)\n",
    "plt.show()"
   ]
  },
  {
   "cell_type": "code",
   "execution_count": null,
   "id": "e59020d0-7e43-4ba1-bc8b-a070aeda6d61",
   "metadata": {},
   "outputs": [],
   "source": [
    "# normals\n",
    "N = points.shape[0]\n",
    "num = 0.04 * N\n",
    "mask = np.arange(0, N, int(N/num))\n",
    "\n",
    "plt.close()\n",
    "fig = plt.figure(figsize=(5, 5))\n",
    "ax = plt.axes(projection='3d')\n",
    "ax.quiver(*points[mask].T, *normals[mask].T,\n",
    "          color=colors[0], length=0.02, lw=0.2)\n",
    "ax.set_box_aspect(np.ptp(points, axis=0))\n",
    "ax.set_axis_off()\n",
    "ax.view_init(elev, azim)\n",
    "plt.show()"
   ]
  },
  {
   "cell_type": "code",
   "execution_count": null,
   "id": "b6d3a19c-69da-4b59-a9c7-9473c66ea72b",
   "metadata": {
    "tags": []
   },
   "outputs": [],
   "source": [
    "# surface\n",
    "mesh_smp = mesh.simplify_quadric_decimation(6500)\n",
    "vert_smp = np.asarray(mesh_smp.vertices)\n",
    "tri_smp = np.asarray(mesh_smp.triangles)\n",
    "ls = LightSource(elev - 10, azim)\n",
    "\n",
    "plt.close()\n",
    "fig = plt.figure(figsize=(5, 5))\n",
    "ax = plt.axes(projection='3d')\n",
    "ax.plot_trisurf(*vert_smp.T, triangles=tri_smp, color=colors[0], lightsource=ls)\n",
    "ax.set_box_aspect(np.ptp(points, axis=0))\n",
    "ax.set_axis_off()\n",
    "ax.view_init(elev, azim)\n",
    "plt.show()"
   ]
  },
  {
   "cell_type": "markdown",
   "id": "da5c40cb-41d2-4d82-9eb2-96de5803b334",
   "metadata": {},
   "source": [
    "# pspd -- wip"
   ]
  },
  {
   "cell_type": "code",
   "execution_count": null,
   "id": "eabeae57-1cef-4779-980c-4aca31cb3ee0",
   "metadata": {
    "tags": []
   },
   "outputs": [],
   "source": [
    "query_point = points[points[:, 0].argmax(), :]\n",
    "dist = np.linalg.norm((points - query_point) / np.array([1, 0.5, 0.25]),\n",
    "                      axis=1)\n",
    "r = 0.025\n",
    "I0 = 10\n",
    "pd = I0 * np.exp(-(dist / r) ** 2)"
   ]
  },
  {
   "cell_type": "code",
   "execution_count": null,
   "id": "3aa37447-5a3d-46b5-a391-2367ae3d30d0",
   "metadata": {
    "tags": []
   },
   "outputs": [],
   "source": [
    "pov = np.mean(points, axis=0)\n",
    "diameter = np.linalg.norm(points.ptp(axis=0))\n",
    "pov[0] += 2 * diameter\n",
    "pov[1] += 0.5 * diameter\n",
    "ind = remove_hidden_points(points, pov, np.pi)\n",
    "\n",
    "plt.close()\n",
    "fig = plt.figure(figsize=(5, 5))\n",
    "ax = plt.axes(projection='3d')\n",
    "ax.scatter(*points[ind].T, c=pd[ind], s=5)\n",
    "ax.set_box_aspect(np.ptp(points[ind], axis=0))\n",
    "ax.set(xlabel='x', ylabel='y')\n",
    "ax.set_axis_off()\n",
    "ax.view_init(elev, azim)\n",
    "plt.show()"
   ]
  },
  {
   "cell_type": "code",
   "execution_count": null,
   "id": "91e3ebd6-81d9-4074-a20a-d6e8775086c3",
   "metadata": {},
   "outputs": [],
   "source": [
    "A = 4 / 100 / 100  # projected averaging area\n",
    "a = np.sqrt(A)  # side length of the projected averaging surface\n",
    "rc = np.sqrt(2) / 2 * a  # radius of the circumscribed circle of a square of area A\n",
    "\n",
    "# results data-placeholder\n",
    "res = {'p': [],\n",
    "       'nbh': [],\n",
    "       'nbh_mesh': [],\n",
    "       'area': [],\n",
    "       'pd': [],\n",
    "       'spd': []}\n",
    "\n",
    "res.fromkeys(res, [])  # reset values for each new run\n",
    "\n",
    "pc_tree = spatial.KDTree(points)  # k-d tree for point cloud data\n",
    "vert_tree = spatial.KDTree(vert)  # k-d tree for mesh vertices\n",
    "\n",
    "# run only for the \"visible\" set of points from the POV of the EM source\n",
    "for p in tqdm(points[ind]):\n",
    "    # extract points from the point cloud within the radius rc of a query point\n",
    "    _nbh_ind = pc_tree.query_ball_point([p], rc, workers=-1)[0]\n",
    "    _nbh = points[_nbh_ind]\n",
    "    _n = normals[_nbh_ind]\n",
    "    _pd = pd[_nbh_ind]\n",
    "    \n",
    "    # select vertices fromm the mesh withing the radius rc of a qery point\n",
    "    _vert_ind = vert_tree.query_ball_point([p], rc, workers=-1)[0]\n",
    "    _mesh = mesh.select_by_index(_vert_ind, cleanup=True)\n",
    "    _mesh = _mesh.subdivide_loop(number_of_iterations=1)\n",
    "    _vert = np.asarray(_mesh.vertices)\n",
    "    \n",
    "    # map a local point cloud into an orthonormal basis\n",
    "    X = _nbh.copy()\n",
    "    mu = X.mean(axis=0)\n",
    "    Xn = X - mu\n",
    "    pn = p - mu\n",
    "    Vn = _vert - mu\n",
    "    C = X.T @ X\n",
    "    U, _, _ = np.linalg.svd(C)\n",
    "    Xt = Xn @ U\n",
    "    pt = pn @ U\n",
    "    Vt = Vn @ U\n",
    "    \n",
    "    # set the bounding box that corresponds to the projected square area for averaging\n",
    "    _bbox = [pt[0]-a/2, pt[0]+a/2,\n",
    "             pt[1]-a/2, pt[1]+a/2]\n",
    "    _Xt_bbox_ind = np.where((Xt[:, 0] >= _bbox[0])\n",
    "                            & (Xt[:, 0] <= _bbox[1])\n",
    "                            & (Xt[:, 1] >= _bbox[2])\n",
    "                            & (Xt[:, 1] <= _bbox[3]))[0]\n",
    "    _Vt_bbox_ind = np.where((Vt[:, 0] >= _bbox[0])\n",
    "                            & (Vt[:, 0] <= _bbox[1])\n",
    "                            & (Vt[:, 1] >= _bbox[2])\n",
    "                            & (Vt[:, 1] <= _bbox[3]))[0]\n",
    "    \n",
    "    # estimate the conformal surface area\n",
    "    _nbh_mesh = _mesh.select_by_index(_Vt_bbox_ind, cleanup=True)\n",
    "    _area = _nbh_mesh.get_surface_area()\n",
    "        \n",
    "    # estimate the spatially-averaged absorbed power density\n",
    "    _spd = 1 / _area * edblquad(points=Xt[_Xt_bbox_ind, :2],\n",
    "                                values=_pd[_Xt_bbox_ind],\n",
    "                                bbox=_bbox)\n",
    "    \n",
    "    # capture the rest of the values results\n",
    "    _nbh = _nbh[_Xt_bbox_ind]\n",
    "    _n = _n[_Xt_bbox_ind]\n",
    "    _pd = _pd[_Xt_bbox_ind]\n",
    "    \n",
    "    # store the results\n",
    "    res['p'].append(p)\n",
    "    res['nbh'].append(_nbh)\n",
    "    res['nbh_mesh'].append(_nbh_mesh)\n",
    "    res['area'].append(_area)\n",
    "    res['pd'].append(_pd)\n",
    "    res['spd'].append(_spd)"
   ]
  },
  {
   "cell_type": "code",
   "execution_count": null,
   "id": "fdc89a9e-c41d-4385-add2-cd7fe5dcddd8",
   "metadata": {
    "tags": []
   },
   "outputs": [],
   "source": [
    "# surface\n",
    "ls = LightSource(elev, azim)\n",
    "fig = plt.figure(figsize=(5, 5))\n",
    "ax = plt.axes(projection='3d')\n",
    "ax.scatter(*_nbh.T, color=colors[0])\n",
    "ax.plot_trisurf(*np.asarray(_nbh_mesh.vertices).T,\n",
    "                triangles=np.asarray(_nbh_mesh.triangles),\n",
    "                color=colors[2], alpha=0.75, lightsource=ls)\n",
    "ax.set_box_aspect(_mesh.get_max_bound() - _mesh.get_min_bound())\n",
    "#ax.set_axis_off()\n",
    "ax.view_init(elev, azim)\n",
    "plt.show()"
   ]
  },
  {
   "cell_type": "code",
   "execution_count": null,
   "id": "f82e9d0b-3f09-4cfe-ad80-dc1b7b595d72",
   "metadata": {
    "tags": []
   },
   "outputs": [],
   "source": [
    "pi = np.argmax(res['spd'])\n",
    "pp = res['p'][pi]\n",
    "pnbh = res['nbh'][pi]\n",
    "pnbh_mesh = res['nbh_mesh'][pi]\n",
    "parea = res['area'][pi]\n",
    "ppd = res['pd'][pi]\n",
    "pspd = res['spd'][pi]"
   ]
  },
  {
   "cell_type": "code",
   "execution_count": null,
   "id": "b13a51b9-9389-4a16-8e6e-fbf31d85fb4e",
   "metadata": {
    "tags": []
   },
   "outputs": [],
   "source": [
    "fig = plt.figure(figsize=(5, 5))\n",
    "ax = plt.axes(projection='3d')\n",
    "ax.scatter(*points.T, alpha=0.1, s=1)\n",
    "ax.plot(*pp, 'ro', ms=5, zorder=3)\n",
    "ax.set_box_aspect(np.ptp(points, axis=0))\n",
    "ax.set(xlabel='x', ylabel='y')\n",
    "ax.view_init(25, 50)\n",
    "plt.show()"
   ]
  },
  {
   "cell_type": "code",
   "execution_count": null,
   "id": "bfe9f7ec-fb57-4ec7-8595-c5c7b70112f7",
   "metadata": {
    "tags": []
   },
   "outputs": [],
   "source": [
    "fig = plt.figure(figsize=(5, 5))\n",
    "ax = plt.axes(projection='3d')\n",
    "ax.scatter(*pnbh.T, s=5)\n",
    "ax.plot(*pp, 'ro', ms=5, zorder=3)\n",
    "ax.set_box_aspect(np.ptp(pnbh, axis=0))\n",
    "ax.set(xlabel='x', ylabel='y')\n",
    "ax.view_init(25, 50)\n",
    "plt.show()"
   ]
  },
  {
   "cell_type": "code",
   "execution_count": null,
   "id": "fe523523-aaf1-4388-a612-e3283fbbef36",
   "metadata": {
    "tags": []
   },
   "outputs": [],
   "source": [
    "fig = plt.figure(figsize=(5, 5))\n",
    "ax = plt.axes(projection='3d')\n",
    "ax.scatter(*pnbh.T, c=ppd, s=5)\n",
    "ax.set_box_aspect(np.ptp(pnbh, axis=0))\n",
    "ax.set(xlabel='x', ylabel='y')\n",
    "ax.view_init(25, 50)\n",
    "plt.show()"
   ]
  },
  {
   "cell_type": "code",
   "execution_count": null,
   "id": "f4964ef9-ffcf-4ed4-a954-54f713f809dc",
   "metadata": {
    "tags": []
   },
   "outputs": [],
   "source": [
    "pvert = np.asarray(pnbh_mesh.vertices)\n",
    "ptri = np.asarray(pnbh_mesh.triangles)"
   ]
  },
  {
   "cell_type": "code",
   "execution_count": null,
   "id": "a9c2c0c5-6a7e-422d-b381-dfd721b52f64",
   "metadata": {
    "tags": []
   },
   "outputs": [],
   "source": [
    "# surface\n",
    "ls = LightSource(elev, azim)\n",
    "fig = plt.figure(figsize=(5, 5))\n",
    "ax = plt.axes(projection='3d')\n",
    "ax.scatter(*pnbh.T, color=colors[0])\n",
    "ax.scatter(*pp, color='k')\n",
    "ax.plot_trisurf(*pvert.T, triangles=ptri, color=colors[2], alpha=0.75, lightsource=ls)\n",
    "ax.set_box_aspect(np.ptp(pvert, axis=0))\n",
    "#ax.set_axis_off()\n",
    "ax.view_init(elev, azim)\n",
    "plt.show()"
   ]
  },
  {
   "cell_type": "code",
   "execution_count": null,
   "id": "9aff561b-799b-41ef-be8e-cbacb9d437f7",
   "metadata": {},
   "outputs": [],
   "source": [
    "pspd"
   ]
  },
  {
   "cell_type": "code",
   "execution_count": null,
   "id": "f6c4962e-7ea0-4d48-b12f-317e8a027ff9",
   "metadata": {
    "tags": []
   },
   "outputs": [],
   "source": [
    "parea"
   ]
  },
  {
   "cell_type": "code",
   "execution_count": null,
   "id": "e6fd738f-ef93-4227-9c6c-0a15c245a45c",
   "metadata": {},
   "outputs": [],
   "source": []
  }
 ],
 "metadata": {
  "kernelspec": {
   "display_name": "Python 3 (ipykernel)",
   "language": "python",
   "name": "python3"
  },
  "language_info": {
   "codemirror_mode": {
    "name": "ipython",
    "version": 3
   },
   "file_extension": ".py",
   "mimetype": "text/x-python",
   "name": "python",
   "nbconvert_exporter": "python",
   "pygments_lexer": "ipython3",
   "version": "3.9.16"
  }
 },
 "nbformat": 4,
 "nbformat_minor": 5
}
