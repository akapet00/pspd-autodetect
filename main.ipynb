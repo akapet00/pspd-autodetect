{
 "cells": [
  {
   "cell_type": "code",
   "execution_count": null,
   "id": "2faa2595-7bc1-447f-b339-f54bea39f1d7",
   "metadata": {},
   "outputs": [],
   "source": [
    "import os\n",
    "\n",
    "import matplotlib.pyplot as plt\n",
    "from matplotlib.colors import LightSource\n",
    "import meshio\n",
    "import numpy as np\n",
    "import seaborn as sns"
   ]
  },
  {
   "cell_type": "code",
   "execution_count": null,
   "id": "8b6fad41-4416-4bb4-9226-4ff9a64a626f",
   "metadata": {
    "tags": []
   },
   "outputs": [],
   "source": [
    "%matplotlib widget"
   ]
  },
  {
   "cell_type": "code",
   "execution_count": null,
   "id": "d3ff4c91-15ef-49af-8492-7b86704b87b4",
   "metadata": {
    "tags": []
   },
   "outputs": [],
   "source": [
    "# constants\n",
    "elev = 25\n",
    "azim = 50\n",
    "colors = sns.color_palette('colorblind', 3)\n",
    "colors"
   ]
  },
  {
   "cell_type": "code",
   "execution_count": null,
   "id": "3fd5d8cf-703a-465a-824e-ffd7eeadaeb0",
   "metadata": {},
   "outputs": [],
   "source": [
    "# data\n",
    "fname = os.path.join('data', 'model', 'head')\n",
    "points = np.loadtxt(fname + '.xyz', delimiter=',')\n",
    "normals = np.loadtxt(fname + '.normals', delimiter=',')\n",
    "mesh = meshio.read(fname + '.ply')\n",
    "vert = mesh.points\n",
    "tri = mesh.cells[0].data\n",
    "\n",
    "N = points.shape[0]\n",
    "num = 0.1 * N\n",
    "mask = np.arange(0, N, int(N/num))"
   ]
  },
  {
   "cell_type": "code",
   "execution_count": null,
   "id": "301f8bf8-d158-4e72-a4d7-f992da87dc34",
   "metadata": {},
   "outputs": [],
   "source": [
    "# point cloud\n",
    "fig = plt.figure(figsize=(5, 5))\n",
    "ax = plt.axes(projection='3d')\n",
    "ax.scatter(*points[mask].T,\n",
    "           fc='w', ec=colors[0], s=10, lw=0.5)\n",
    "ax.set_box_aspect(np.ptp(points, axis=0))\n",
    "ax.set_axis_off()\n",
    "ax.view_init(25, 50)\n",
    "plt.show()"
   ]
  },
  {
   "cell_type": "code",
   "execution_count": null,
   "id": "e59020d0-7e43-4ba1-bc8b-a070aeda6d61",
   "metadata": {},
   "outputs": [],
   "source": [
    "# normals\n",
    "fig = plt.figure(figsize=(5, 5))\n",
    "ax = plt.axes(projection='3d')\n",
    "ax.quiver(*points[mask].T, *normals[mask].T,\n",
    "          color=colors[0], length=0.02, lw=0.5)\n",
    "ax.set_box_aspect(np.ptp(points, axis=0))\n",
    "ax.set_axis_off()\n",
    "ax.view_init(25, 50)\n",
    "plt.show()"
   ]
  },
  {
   "cell_type": "code",
   "execution_count": null,
   "id": "b4db68d8-4b3d-4061-9880-ec557a2747df",
   "metadata": {
    "tags": []
   },
   "outputs": [],
   "source": [
    "# surface\n",
    "ls = LightSource(elev, azim)\n",
    "fig = plt.figure(figsize=(5, 5))\n",
    "ax = plt.axes(projection='3d')\n",
    "ax.plot_trisurf(*vert.T, triangles=tri, color=colors[0], lightsource=ls)\n",
    "ax.set_box_aspect(np.ptp(points, axis=0))\n",
    "ax.set_axis_off()\n",
    "ax.view_init(elev, azim)\n",
    "plt.show()"
   ]
  },
  {
   "cell_type": "code",
   "execution_count": null,
   "id": "b3f78c4c-e4e8-4200-8dd5-13e9e601121b",
   "metadata": {},
   "outputs": [],
   "source": []
  }
 ],
 "metadata": {
  "kernelspec": {
   "display_name": "Python 3 (ipykernel)",
   "language": "python",
   "name": "python3"
  },
  "language_info": {
   "codemirror_mode": {
    "name": "ipython",
    "version": 3
   },
   "file_extension": ".py",
   "mimetype": "text/x-python",
   "name": "python",
   "nbconvert_exporter": "python",
   "pygments_lexer": "ipython3",
   "version": "3.9.16"
  }
 },
 "nbformat": 4,
 "nbformat_minor": 5
}
